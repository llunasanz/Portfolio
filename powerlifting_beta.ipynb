{
 "cells": [
  {
   "cell_type": "markdown",
   "metadata": {},
   "source": [
    "\n",
    "# Powerlifting Data Analysis\n",
    "\n",
    "\n",
    "The aim of this notebook is:\n",
    "- The data analysis of a subset of lifters (determined by the user).\n",
    "- Predict how much kg can lift a lifter at bench and deadlift taking into account only the squat and bodyweight.\n",
    "- Determine in which percentile is placed a lifter based on them lifts.\n",
    "\n"
   ]
  },
  {
   "cell_type": "markdown",
   "metadata": {},
   "source": [
    "<h2>Table of content</h2>\n",
    "\n",
    "<div class=\"alert alert-block alert-info\" style=\"margin-top: 20px\">\n",
    "<ol>\n",
    "    <li><a href=\"#import_data\">Import Data from Openpowerlifting</a></li>\n",
    "    <li><a href=\"#creating_subcategories\">Creating subcategories</a></li>\n",
    "    <li><a href=\"#predicting_liftings\">Predicting liftings</a></li>\n",
    "    <li><a href=\"#b_and_w\">Box and Whiskers</a></li>\n",
    "    <li><a href=\"#S_c_SVM\">Sex classification using SVM</a></li>\n",
    "</ol>\n",
    "\n",
    "</div>\n",
    " \n",
    "<hr>\n"
   ]
  },
  {
   "cell_type": "markdown",
   "metadata": {},
   "source": [
    "<h3>Read me</h3>\n",
    "\n",
    "- If you want to jump to another section and run it, **run section 1** before anything.\n",
    "- To get the csv, [click here](https://openpowerlifting.gitlab.io/opl-csv/files/openipf-latest.zip) and change the name of the document to \"openipf.csv\".\n",
    "- The cells that works have their output. Otherwise, they don't work.\n"
   ]
  },
  {
   "cell_type": "markdown",
   "metadata": {},
   "source": [
    "<h2 id=\"import_data\">1. Import Data from Openpowerlifting</h2>\n"
   ]
  },
  {
   "cell_type": "markdown",
   "metadata": {},
   "source": [
    "<h4>Setup</h4>\n"
   ]
  },
  {
   "cell_type": "code",
   "execution_count": 1,
   "metadata": {},
   "outputs": [],
   "source": [
    "### Setup ###\n",
    "\n",
    "import pandas as pd\n",
    "import matplotlib.pyplot as plt\n",
    "%matplotlib inline\n",
    "import numpy as np\n",
    "import seaborn as sns\n",
    "import scipy\n",
    "from scipy.stats import shapiro\n",
    "from scipy.stats import iqr\n",
    "from sklearn.linear_model import LinearRegression\n",
    "from sklearn.model_selection import train_test_split\n",
    "from sklearn.pipeline import Pipeline\n",
    "from sklearn.preprocessing import StandardScaler,PolynomialFeatures\n",
    "from sklearn.metrics import r2_score\n",
    "import statistics\n",
    "\n",
    "\n",
    "\n",
    "## Show unlimited rows and columns (just for debugging) ##\n",
    "\n",
    "# pd.set_option('display.max_rows', None)\n",
    "# pd.set_option('display.max_columns', None)"
   ]
  },
  {
   "cell_type": "code",
   "execution_count": 2,
   "metadata": {},
   "outputs": [
    {
     "name": "stderr",
     "output_type": "stream",
     "text": [
      "C:\\ProgramData\\Anaconda3\\lib\\site-packages\\IPython\\core\\interactiveshell.py:3441: DtypeWarning: Columns (33,38) have mixed types.Specify dtype option on import or set low_memory=False.\n",
      "  exec(code_obj, self.user_global_ns, self.user_ns)\n"
     ]
    }
   ],
   "source": [
    "### Opening csv ###\n",
    "\n",
    "path = 'openipf.csv'\n",
    "df = pd.read_csv(path)\n",
    "# Show the first 5 rows.\n",
    "df.head()\n",
    "\n",
    "### Categories and classes ###\n",
    "# Bodyweight by sex\n",
    "bw_F = (43, 47, 52, 57, 63, 69, 76, 84)\n",
    "bw_M = (53, 59, 66, 74, 83, 93, 105, 120)\n",
    "bw_Mx = (44, 48, 52, 56, 60, 67.5, 75, 82.5, 90, 100, 110, 125, 140)\n",
    "\n",
    "# Age\n",
    "age_c = {\"Sub-Junior\": 18, \"Junior\": 23, \"Senior\": 39, \"Master I\": 49, \"Master II\": 59, \"Master III\": 69, \"Master IV\": 70}"
   ]
  },
  {
   "cell_type": "code",
   "execution_count": 3,
   "metadata": {},
   "outputs": [],
   "source": [
    "### Define functions ###\n",
    "\n",
    "## Age category selection ##\n",
    "# Building but it works #\n",
    "def age_selection(df, age_c):\n",
    "    while True:\n",
    "        age_ = input(\"Write the age (integer) that was/is/will be reached in this year. Write -1 to include all ages: \")\n",
    "        # Check if the input is a float.\n",
    "        isInt = True\n",
    "        try:\n",
    "            # Convert age_ string to int.\n",
    "            int(age_)\n",
    "        except ValueError:\n",
    "            isInt =  False\n",
    "        if isInt:\n",
    "            # Proceed to age category selection.\n",
    "            break\n",
    "        else:\n",
    "            print(\"\\nWrong age input. Please, try again.\\n\")\n",
    "\n",
    "    age_ = int(age_)\n",
    "\n",
    "    # Age selection when the value is higher than 0.\n",
    "    if age_ > 0:\n",
    "        if age_ <= age_c['Sub-Junior']:\n",
    "            df = df.loc[df['BirthYearClass'] == '14-18']\n",
    "        elif age_ <= age_c['Junior']:\n",
    "            df = df.loc[df['BirthYearClass'] == '19-23']\n",
    "        elif age_ <= age_c['Senior']:\n",
    "            df = df.loc[df['BirthYearClass'] == '24-39']\n",
    "        elif age_ <= age_c['Master I']:\n",
    "            df = df.loc[df['BirthYearClass'] == '40-49']\n",
    "        elif age_ <= age_c['Master II']:\n",
    "            df = df.loc[df['BirthYearClass'] == '50-59']\n",
    "        elif age_ <= age_c['Master III']:\n",
    "            df = df.loc[df['BirthYearClass'] == '60-69']\n",
    "        else:\n",
    "            df = df.loc[df['BirthYearClass'] == '70-999']\n",
    "    return df\n",
    "\n",
    "\n",
    "## Equipment category selection ##\n",
    "def equip_selection(df):\n",
    "    while True:\n",
    "        equip_ = input(\"Write equipment category ('Raw', 'Single-ply', 'Wraps' or 'All'): \").upper()\n",
    "        if equip_ == 'RAW' or equip_ == 'SINGLE-PLY' or equip_ == 'WRAPS':\n",
    "            break\n",
    "        elif equip_ == 'ALL':\n",
    "            break\n",
    "        else:\n",
    "            print(\"\\nWrong equipment input. Please, try again.\\n\")\n",
    "    return df.loc[df['Equipment'] == equip_]\n",
    "\n",
    "\n",
    "## Bodyweight category selection ##\n",
    "def bw_selection(df, sex_):\n",
    "    while True:\n",
    "        bw_ = input(\"Write the bodyweight within or without decimals. Write -1 to include all weights: \").upper()\n",
    "        bw_ = bw_.replace(',','.')\n",
    "        # Check if the input is a float.\n",
    "        isFloat = True\n",
    "        try:\n",
    "            # Convert bw_ string to float.\n",
    "            float(bw_)\n",
    "        except ValueError:\n",
    "            isFloat =  False\n",
    "        if isFloat:\n",
    "            # Proceed to bodyweight category selection.\n",
    "            break\n",
    "        else:\n",
    "            print(\"\\nWrong weight input. Please, try again.\\n\")\n",
    "\n",
    "    ### At subjunior and junior categories, add a conditional 'and' that checks if the lifter is junior or subjunior. ###\n",
    "    ### Age class selection is required before proceeding to bodyweight selection. ###\n",
    "\n",
    "    bw_ = float(bw_)\n",
    "\n",
    "    if bw_ > 0:\n",
    "\n",
    "        # Female bodyweight categories\n",
    "        if sex_ == 'F':\n",
    "            # Subjunior and junior bodyweight category only.\n",
    "            if bw_ <= bw_F[0]:\n",
    "                df = df.loc[df['BodyweightKg'] <= bw_F[0]]\n",
    "            elif bw_ <= bw_F[1]:\n",
    "                df = df.loc[df['BodyweightKg'] <= bw_F[1]]\n",
    "                df = df.loc[df['BodyweightKg'] > bw_F[0]]\n",
    "            elif bw_ <= bw_F[2]:\n",
    "                df = df.loc[df['BodyweightKg'] <= bw_F[2]]\n",
    "                df = df.loc[df['BodyweightKg'] > bw_F[1]]\n",
    "            elif bw_ <= bw_F[3]:\n",
    "                df = df.loc[df['BodyweightKg'] <= bw_F[3]]\n",
    "                df = df.loc[df['BodyweightKg'] > bw_F[2]]\n",
    "            elif bw_ <= bw_F[4]:\n",
    "                df = df.loc[df['BodyweightKg'] <= bw_F[4]]\n",
    "                df = df.loc[df['BodyweightKg'] > bw_F[3]]\n",
    "            elif bw_ <= bw_F[5]:\n",
    "                df = df.loc[df['BodyweightKg'] <= bw_F[5]]\n",
    "                df = df.loc[df['BodyweightKg'] > bw_F[4]]\n",
    "            elif bw_ <= bw_F[6]:\n",
    "                df = df.loc[df['BodyweightKg'] <= bw_F[6]]\n",
    "                df = df.loc[df['BodyweightKg'] > bw_F[5]]\n",
    "            elif bw_ <= bw_F[7]:\n",
    "                df = df.loc[df['BodyweightKg'] <= bw_F[7]]\n",
    "                df = df.loc[df['BodyweightKg'] > bw_F[6]]\n",
    "            else:\n",
    "                df = df.loc[df['BodyweightKg'] > bw_F[7]]\n",
    "\n",
    "        # Male bodyweight categories\n",
    "        elif sex_ == 'M':\n",
    "            # Subjunior and junior bodyweight category only.\n",
    "            if bw_ <= bw_M[0]:\n",
    "                df = df.loc[df['BodyweightKg'] <= bw_M[0]]\n",
    "            elif bw_ <= bw_M[1]:\n",
    "                df = df.loc[df['BodyweightKg'] <= bw_M[1]]\n",
    "                df = df.loc[df['BodyweightKg'] > bw_M[0]]\n",
    "            elif bw_ <= bw_M[2]:\n",
    "                df = df.loc[df['BodyweightKg'] <= bw_M[2]]\n",
    "                df = df.loc[df['BodyweightKg'] > bw_M[1]]\n",
    "            elif bw_ <= bw_M[3]:\n",
    "                df = df.loc[df['BodyweightKg'] <= bw_M[3]]\n",
    "                df = df.loc[df['BodyweightKg'] > bw_M[2]]\n",
    "            elif bw_ <= bw_M[4]:\n",
    "                df = df.loc[df['BodyweightKg'] <= bw_M[4]]\n",
    "                df = df.loc[df['BodyweightKg'] > bw_M[3]]\n",
    "            elif bw_ <= bw_M[5]:\n",
    "                df = df.loc[df['BodyweightKg'] <= bw_M[5]]\n",
    "                df = df.loc[df['BodyweightKg'] > bw_M[4]]\n",
    "            elif bw_ <= bw_M[6]:\n",
    "                df = df.loc[df['BodyweightKg'] <= bw_M[6]]\n",
    "                df = df.loc[df['BodyweightKg'] > bw_M[5]]\n",
    "            elif bw_ <= bw_M[7]:\n",
    "                df = df.loc[df['BodyweightKg'] <= bw_M[7]]\n",
    "                df = df.loc[df['BodyweightKg'] > bw_M[6]]\n",
    "            else:\n",
    "                df = df.loc[df['BodyweightKg'] > bw_M[7]]\n",
    "\n",
    "        # Mx bodyweight categories (according to USA Powerlifting)\n",
    "            # If all sexes are choosed, Mx criteria will be used.\n",
    "        elif sex_ == 'MX' or sex_ == 'ALL':\n",
    "            if bw_ <= bw_Mx[0]:\n",
    "                df = df.loc[df['BodyweightKg'] <= bw_Mx[0]]\n",
    "            elif bw_ <= bw_Mx[1]:\n",
    "                df = df.loc[df['BodyweightKg'] <= bw_Mx[1]]\n",
    "                df = df.loc[df['BodyweightKg'] > bw_Mx[0]]\n",
    "            elif bw_ <= bw_Mx[2]:\n",
    "                df = df.loc[df['BodyweightKg'] <= bw_Mx[2]]\n",
    "                df = df.loc[df['BodyweightKg'] > bw_Mx[1]]\n",
    "            elif bw_ <= bw_Mx[3]:\n",
    "                df = df.loc[df['BodyweightKg'] <= bw_Mx[3]]\n",
    "                df = df.loc[df['BodyweightKg'] > bw_Mx[2]]\n",
    "            elif bw_ <= bw_Mx[4]:\n",
    "                df = df.loc[df['BodyweightKg'] <= bw_Mx[4]]\n",
    "                df = df.loc[df['BodyweightKg'] > bw_Mx[3]]\n",
    "            elif bw_ <= bw_Mx[5]:\n",
    "                df = df.loc[df['BodyweightKg'] <= bw_Mx[5]]\n",
    "                df = df.loc[df['BodyweightKg'] > bw_Mx[4]]\n",
    "            elif bw_ <= bw_Mx[6]:\n",
    "                df = df.loc[df['BodyweightKg'] <= bw_Mx[6]]\n",
    "                df = df.loc[df['BodyweightKg'] > bw_Mx[5]]\n",
    "            elif bw_ <= bw_Mx[7]:\n",
    "                df = df.loc[df['BodyweightKg'] <= bw_Mx[7]]\n",
    "                df = df.loc[df['BodyweightKg'] > bw_Mx[6]]\n",
    "            else:\n",
    "                df = df.loc[df['BodyweightKg'] > bw_Mx[7]]\n",
    "    return df\n"
   ]
  },
  {
   "cell_type": "code",
   "execution_count": 4,
   "metadata": {},
   "outputs": [],
   "source": [
    "### Creating another dataframe ###\n",
    "\n",
    "# df is kept as the original dataframe. df_c will be the modified dataframe.\n",
    "df_c = df\n",
    "df_c.head()\n",
    "\n",
    "# Uppercase Equipment and Sex columns to make the input easier to the user.\n",
    "df_c['Equipment'] = df_c['Equipment'].str.upper()\n",
    "df_c['Sex'] = df_c['Sex'].str.upper()"
   ]
  },
  {
   "cell_type": "markdown",
   "metadata": {},
   "source": [
    "<h2 id=\"creating_subcategories\">2. Creating subcategories</h2>\n"
   ]
  },
  {
   "cell_type": "markdown",
   "metadata": {},
   "source": [
    "<h4>Categories can be divided by Sex, Equipment, Age Class and Bodyweight.</h4>\n"
   ]
  },
  {
   "cell_type": "code",
   "execution_count": null,
   "metadata": {},
   "outputs": [],
   "source": [
    "'''\n",
    "FIXME: DO NOT RUN\n",
    "Building\n",
    "'''\n",
    "\n",
    "### Age category selection previous discussion ###\n",
    "\n",
    "# An other analysis within and without that values will be necessary if \"Open\" include outliners.\n",
    "\n",
    "# It is noticed that 23.73 % of lifters will not be included using only the 'BirthYearClass' column because them have a nan value.\n",
    "len(df_c.loc[df_c['BirthYearClass'].isna()]['Division'])/len(df_c['BirthYearClass'])*100\n",
    "\n",
    "# Also, there are 577 unique values at the 'Division' column at the nan-BirthYearClass cases.\n",
    "len(df_c.loc[df_c['BirthYearClass'].isna()]['Division'].unique())\n",
    "\n",
    "# The list of 'Division' columns can be checked by the following instruction. We can check that there are categories that don't make any reference to the age.\n",
    "df_c.loc[df_c['BirthYearClass'].isna()]['Division'].unique()\n",
    "\n",
    "# In order to check how many divisions can be chosen without giving up significance.\n",
    "# By including 95% lifters or more, it will be okay. By keeping more than 185,305 people.\n",
    "\n",
    "# Dataframe only with the lifters that have a nan value at division.\n",
    "df_c_test = df_c.loc[df_c['BirthYearClass'].isna()]\n",
    "# List with unique values of 'Division' from the previous dataframe.\n",
    "div_test = df_c_test['Division'].unique()\n",
    "\n",
    "# List that will contain how many people are in each division.\n",
    "len_div_test = []\n",
    "\n",
    "for i in range(len(div_test)):\n",
    "    len_div_test.append(len(df_c_test.loc[df_c_test['Division'] == div_test[i]]))\n",
    "    \n",
    "# Create an array that include the other lifters.\n",
    "div_list = []\n",
    "\n",
    "for i in range(0,20):\n",
    "    div_list.append(div_test[np.min(np.where(len_div_test == np.min(max(len_div_test))))])\n",
    "    len_div_test = np.delete(len_div_test, np.min(np.where(len_div_test == np.min(max(len_div_test)))), 0)\n",
    "\n",
    "    \n",
    "# 'Open' is the division with the maximum number of people: 134,182\n",
    "    # However, the ages from these lifters are unknown. It could be possible guess that they are Senior.\n",
    "# Open -> 24 - 39\n",
    "# Junior II -> 19- 23\n",
    "# FR-O -> 24 - 39\n",
    "# Blind -> division of blind lifters.\n",
    "# Master IV -> 70 - 999\n",
    "# F-C-Open -> 24 - 39\n",
    "# MR-Sj -> 14 - 18\n",
    "# Under 15 -> Less than Subjunior\n",
    "# 18-20 -> 19 - 23\n",
    "# Master 40+ -> 40 - 49\n",
    "# M-PL -> ?\n",
    "\n",
    "len_div_test = np.array(len_div_test)\n",
    "div_test[np.min(np.where(len_div_test == np.min(max(len_div_test))))]\n",
    "div_list\n",
    "\n",
    "# In order to know in which ages correspond each division (e.g. FR-O), check the ages at original dataframe.\n",
    "# Wide range of ages: see distribution, choose mean or median."
   ]
  },
  {
   "cell_type": "code",
   "execution_count": 5,
   "metadata": {},
   "outputs": [
    {
     "name": "stdout",
     "output_type": "stream",
     "text": [
      "Write the age (integer) that was/is/will be reached in this year. Write -1 to include all ages: Hello\n",
      "\n",
      "Wrong age input. Please, try again.\n",
      "\n",
      "Write the age (integer) that was/is/will be reached in this year. Write -1 to include all ages: 24.5\n",
      "\n",
      "Wrong age input. Please, try again.\n",
      "\n",
      "Write the age (integer) that was/is/will be reached in this year. Write -1 to include all ages: 24\n",
      "Select Sex ('F' (Female), 'M' (Male), 'Mx' (Mixed) or 'All'): 1\n",
      "\n",
      "Incorrect input. Please, try again.\n",
      "\n",
      "Select Sex ('F' (Female), 'M' (Male), 'Mx' (Mixed) or 'All'): f\n",
      "Write equipment category ('Raw', 'Single-ply', 'Wraps' or 'All'): raw\n",
      "Write the bodyweight within or without decimals. Write -1 to include all weights: 67,9\n"
     ]
    }
   ],
   "source": [
    "### Create a subset by age, sex, equipment and bodyweight\n",
    "\n",
    "df_c = age_selection(df_c, age_c)\n",
    "while True:\n",
    "    sex_ = input(\"Select Sex ('F' (Female), 'M' (Male), 'Mx' (Mixed) or 'All'): \").upper()\n",
    "    if sex_ == 'F' or sex_ == 'M' or sex_ == 'MX':\n",
    "        df_c = df_c.loc[df_c['Sex'] == sex_]\n",
    "        break\n",
    "    elif sex_ == 'ALL':\n",
    "        break\n",
    "    else:\n",
    "        print(\"\\nIncorrect input. Please, try again.\\n\")\n",
    "df_c = equip_selection(df_c)\n",
    "df_c = bw_selection(df_c, sex_)\n",
    "# Drop from dataset competitors declassified by doping positive.\n",
    "df_c = df_c.loc[df_c['Place'] != 'DD']"
   ]
  },
  {
   "cell_type": "markdown",
   "metadata": {},
   "source": [
    "\n",
    "\n",
    "<h2 id=\"predicting_liftings\">3. Predicting liftings</h2>\n"
   ]
  },
  {
   "cell_type": "code",
   "execution_count": null,
   "metadata": {},
   "outputs": [],
   "source": [
    "### Show correlation between parameters\n",
    "# df_c.corr()\n",
    "    # Correlations between Best3SquatKg and BodyweightKg (0.613163), Best3SquatKg and Best3BenchKg (0.878804), Best3SquatKg and Best3DeadliftKg (0.898275), Best3SquatKg and TotalKg (0.974444), Best3SquatKg and Dots (0.805631), Best3SquatKg and Wilks (0.793271), Best3SquatKg and Glossbrenner (0.837061), Best3SquatKg and Goodlift (0.729958).\n",
    "    # Correlations between Best3BenchKg and BodyweightKg (0.658468), Best3BenchKg and Best3DeadliftKg (0.854079), Best3Bench and GoodliftKg (0.611504).\n",
    "    # Correlation between Best3DeadliftKg and BodyweightKg (0.635525).\n",
    "    \n",
    "# We will try to predict Best3BenchKg and Best3DeadliftKg using Best3SquatKg and BodyweightKg as predictors."
   ]
  },
  {
   "cell_type": "markdown",
   "metadata": {},
   "source": [
    "<h4>Bench press prediction.</h4>"
   ]
  },
  {
   "cell_type": "code",
   "execution_count": 6,
   "metadata": {},
   "outputs": [],
   "source": [
    "# Define a new dataset for this case.\n",
    "\n",
    "# df_c_b will be the part of the modified dataset to use for predict bench.\n",
    "df_c_b = df_c.dropna(subset=['Best3SquatKg', 'Best3BenchKg'])\n",
    "# Delete values below 0.\n",
    "df_c_b = df_c_b.loc[df_c_b['Best3SquatKg'] > 0]\n",
    "df_c_b = df_c_b.loc[df_c_b['Best3BenchKg'] > 0]\n",
    "# Delete values above 1000 (unachievable).\n",
    "df_c_b = df_c_b.loc[df_c_b['Best3SquatKg'] < 1000]\n",
    "df_c_b = df_c_b.loc[df_c_b['Best3BenchKg'] < 1000]\n"
   ]
  },
  {
   "cell_type": "code",
   "execution_count": 7,
   "metadata": {},
   "outputs": [
    {
     "name": "stdout",
     "output_type": "stream",
     "text": [
      "0.6119340746235707\n"
     ]
    },
    {
     "data": {
      "text/plain": [
       "<matplotlib.collections.PathCollection at 0x28fafad2370>"
      ]
     },
     "execution_count": 7,
     "metadata": {},
     "output_type": "execute_result"
    },
    {
     "data": {
      "image/png": "[encoded data removed]",
      "text/plain": [
       "<Figure size 432x288 with 1 Axes>"
      ]
     },
     "metadata": {
      "needs_background": "light"
     },
     "output_type": "display_data"
    }
   ],
   "source": [
    "# Linear regression\n",
    "\n",
    "lm = LinearRegression()\n",
    "Z = df_c_b[['BodyweightKg', 'Best3SquatKg']]\n",
    "y_1 = df_c_b['Best3BenchKg']\n",
    "x_train, x_test, y_train, y_test = train_test_split(Z, y_1, test_size = 0.2, random_state = 0)\n",
    "\n",
    "lm.fit(x_train,y_train)\n",
    "lm.score(x_test,y_test)\n",
    "y_hat = lm.predict(Z)\n",
    "\n",
    "# Print score and scatterplot between predicted and real values of bench press\n",
    "print(lm.score(x_test,y_test))\n",
    "plt.scatter(y_1,y_hat)"
   ]
  },
  {
   "cell_type": "code",
   "execution_count": 8,
   "metadata": {},
   "outputs": [
    {
     "name": "stdout",
     "output_type": "stream",
     "text": [
      "0.614116078231904\n"
     ]
    },
    {
     "data": {
      "image/png": "[encoded data removed]",
      "text/plain": [
       "<Figure size 432x288 with 1 Axes>"
      ]
     },
     "metadata": {
      "needs_background": "light"
     },
     "output_type": "display_data"
    }
   ],
   "source": [
    "# Pipeline regression\n",
    "\n",
    "Input = [('scale', StandardScaler()), ('polynomial', PolynomialFeatures(include_bias = False)), ('model', LinearRegression())]\n",
    "pipe = Pipeline(Input)\n",
    "pipe.fit(x_train,y_train)\n",
    "y_hat = pipe.predict(Z)\n",
    "\n",
    "print(pipe.score(x_test, y_test))\n",
    "plt.scatter(y_1,y_hat)\n",
    "\n",
    "# Standard deviation from bench press (it will be used below)\n",
    "std_dev_b = statistics.pstdev(y_1)"
   ]
  },
  {
   "cell_type": "code",
   "execution_count": 9,
   "metadata": {},
   "outputs": [
    {
     "name": "stdout",
     "output_type": "stream",
     "text": [
      "0.6119340710085966\n"
     ]
    },
    {
     "data": {
      "text/plain": [
       "<matplotlib.collections.PathCollection at 0x28fcbc0ee20>"
      ]
     },
     "execution_count": 9,
     "metadata": {},
     "output_type": "execute_result"
    },
    {
     "data": {
      "image/png": "[encoded data removed]",
      "text/plain": [
       "<Figure size 432x288 with 1 Axes>"
      ]
     },
     "metadata": {
      "needs_background": "light"
     },
     "output_type": "display_data"
    }
   ],
   "source": [
    "# Ridge regression\n",
    "\n",
    "from sklearn.linear_model import Ridge\n",
    "\n",
    "RidgeModel = Ridge(alpha = 0.1)\n",
    "RidgeModel.fit(x_train, y_train)\n",
    "\n",
    "RidgeModel.fit(x_train,y_train)\n",
    "y_hat = RidgeModel.predict(Z)\n",
    "\n",
    "print(RidgeModel.score(x_test, y_test))\n",
    "plt.scatter(y_1,y_hat)"
   ]
  },
  {
   "cell_type": "code",
   "execution_count": 10,
   "metadata": {},
   "outputs": [
    {
     "data": {
      "text/plain": [
       "[array([55. , 67.5, 60. , ..., 70. , 67.5, 72.5])]"
      ]
     },
     "execution_count": 10,
     "metadata": {},
     "output_type": "execute_result"
    }
   ],
   "source": [
    "df_c.corr()\n",
    "from sklearn.metrics import r2_score\n",
    "regr = LinearRegression()\n",
    "\n",
    "BS_np = np.array(df_c_b['Best3SquatKg'])\n",
    "BB_np = np.array(df_c_b['Best3BenchKg'])\n",
    "BS_np = [BS_np]\n",
    "BB_np = [BB_np]\n",
    "regr.fit(BS_np, BB_np)\n",
    "bench_pred = regr.predict(BS_np)\n",
    "# regr.score(BS_np, BB_np)\n",
    "BB_np"
   ]
  },
  {
   "cell_type": "code",
   "execution_count": 11,
   "metadata": {},
   "outputs": [
    {
     "data": {
      "image/png": "[encoded data removed]",
      "text/plain": [
       "<Figure size 1200x400 with 1 Axes>"
      ]
     },
     "metadata": {},
     "output_type": "display_data"
    }
   ],
   "source": [
    "# Print 3D scatterplot: bodyweight, squat and bench\n",
    "### Building (but it can be run) ###\n",
    "\n",
    "import matplotlib.pyplot as plt\n",
    "from sklearn import linear_model\n",
    "from mpl_toolkits.mplot3d import Axes3D\n",
    "\n",
    "plt.style.use('default')\n",
    "fig = plt.figure(figsize=(12, 4))\n",
    "ax = fig.add_subplot(131, projection='3d')\n",
    "\n",
    "x_pred = np.linspace(69, 76)   # range of bodyweight (these values should be variables)\n",
    "y_pred = np.linspace(25, 293)  # range of best squat\n",
    "xx_pred, yy_pred = np.meshgrid(x_pred, y_pred)\n",
    "model_viz = np.array([xx_pred.flatten(), yy_pred.flatten()]).T\n",
    "model = lm.fit(Z, y_1)\n",
    "predicted = model.predict(model_viz)\n",
    "\n",
    "ax.plot(Z['BodyweightKg'], Z['Best3SquatKg'], y_1, color='k', zorder=15, linestyle='none', marker='o', alpha=0.5)\n",
    "ax.scatter(xx_pred.flatten(), yy_pred.flatten(), predicted, facecolor=(0,0,0,0), s=20, edgecolor='#70b3f0')\n",
    "ax.set_xlabel('Bodyweight', fontsize=12)\n",
    "ax.set_ylabel('Best Squat', fontsize=12)\n",
    "ax.set_zlabel('Best Bench', fontsize=12)\n",
    "ax.locator_params(nbins=4, axis='x')\n",
    "ax.locator_params(nbins=5, axis='x')\n",
    "\n",
    "# Change the point of view\n",
    "ax.view_init(elev=25, azim=165)"
   ]
  },
  {
   "cell_type": "code",
   "execution_count": 12,
   "metadata": {},
   "outputs": [
    {
     "name": "stdout",
     "output_type": "stream",
     "text": [
      "Write a bodyweight: 67,9\n",
      "Write an squat attempt: 135\n",
      "The predicted bench is: 74.55 ± 7.5 Kg.\n"
     ]
    }
   ],
   "source": [
    "### Predicting bench press using the pipeline model ###\n",
    "# R^2 = 0.5892572315922986\n",
    "    # Female, Raw, Senior and -76 kg.\n",
    "\n",
    "# First input: BodyweightKg\n",
    "# Second input: Best3SquatKg\n",
    "\n",
    "while True:\n",
    "    bw_1 = input(\"Write a bodyweight: \")\n",
    "    bw_1 = bw_1.replace(',','.')\n",
    "    # Check if the input is a float.\n",
    "    isFloat = True\n",
    "    try:\n",
    "        # Convert bw_ string to float.\n",
    "        float(bw_1)\n",
    "    except ValueError:\n",
    "        isFloat =  False\n",
    "    if isFloat:\n",
    "        # Proceed to bodyweight category selection.\n",
    "        break\n",
    "    else:\n",
    "        print(\"\\nWrong weight input. Please, try again.\\n\")\n",
    "bw_1 = float(bw_1)\n",
    "\n",
    "while True:\n",
    "    sq_1 = input(\"Write an squat attempt: \")\n",
    "    sq_1 = sq_1.replace(',','.')\n",
    "    # Check if the input is a float.\n",
    "    isFloat = True\n",
    "    try:\n",
    "        # Convert bw_ string to float.\n",
    "        float(sq_1)\n",
    "    except ValueError:\n",
    "        isFloat =  False\n",
    "    if isFloat:\n",
    "        # Proceed to bodyweight category selection.\n",
    "        break\n",
    "    else:\n",
    "        print(\"\\nWrong weight input. Please, try again.\\n\")\n",
    "sq_1 = float(sq_1)\n",
    "\n",
    "# The standard deviation (std_dev_b) is used to make an approach.\n",
    "print(\"The predicted bench is: \" + str(round(float(pipe.predict(np.array([[bw_1, sq_1]]))), 2)) + \" ± \" + str(round(std_dev_b/2, 2)) + \" Kg.\")"
   ]
  },
  {
   "cell_type": "markdown",
   "metadata": {},
   "source": [
    "<h4>Deadlift prediction (building).</h4>\n",
    "It has to work like the bench prediction."
   ]
  },
  {
   "cell_type": "code",
   "execution_count": 13,
   "metadata": {},
   "outputs": [],
   "source": [
    "# df_c_d will be the part of the modified dataset to use for predict deadlift.\n",
    "df_c_d = df_c.dropna(subset=['Best3SquatKg', 'Best3DeadliftKg'])\n",
    "# Delete values below 0.\n",
    "df_c_d = df_c_b.loc[df_c_b['Best3SquatKg'] > 0]\n",
    "df_c_d = df_c_b.loc[df_c_b['Best3DeadliftKg'] > 0]\n"
   ]
  },
  {
   "cell_type": "code",
   "execution_count": 14,
   "metadata": {},
   "outputs": [
    {
     "name": "stdout",
     "output_type": "stream",
     "text": [
      "0.6949762839234368\n"
     ]
    },
    {
     "data": {
      "text/plain": [
       "<matplotlib.collections.PathCollection at 0x28fafb0fd90>"
      ]
     },
     "execution_count": 14,
     "metadata": {},
     "output_type": "execute_result"
    },
    {
     "data": {
      "image/png": "[encoded data removed]",
      "text/plain": [
       "<Figure size 640x480 with 1 Axes>"
      ]
     },
     "metadata": {},
     "output_type": "display_data"
    }
   ],
   "source": [
    "# Linear regression\n",
    "\n",
    "lm = LinearRegression()\n",
    "Z = df_c_d[['BodyweightKg', 'Best3SquatKg']]\n",
    "y_1 = df_c_d['Best3DeadliftKg']\n",
    "x_train, x_test, y_train, y_test = train_test_split(Z, y_1, test_size = 0.2, random_state = 0)\n",
    "\n",
    "lm.fit(x_train,y_train)\n",
    "lm.score(x_test,y_test)\n",
    "y_hat = lm.predict(Z)\n",
    "\n",
    "# Print score and scatterplot between predicted and real values of bench press\n",
    "print(lm.score(x_test,y_test))\n",
    "plt.scatter(y_1,y_hat)"
   ]
  },
  {
   "cell_type": "code",
   "execution_count": 15,
   "metadata": {},
   "outputs": [
    {
     "name": "stdout",
     "output_type": "stream",
     "text": [
      "0.6939112553538556\n"
     ]
    },
    {
     "data": {
      "text/plain": [
       "<matplotlib.collections.PathCollection at 0x28fcbc57a00>"
      ]
     },
     "execution_count": 15,
     "metadata": {},
     "output_type": "execute_result"
    },
    {
     "data": {
      "image/png": "[encoded data removed]",
      "text/plain": [
       "<Figure size 640x480 with 1 Axes>"
      ]
     },
     "metadata": {},
     "output_type": "display_data"
    }
   ],
   "source": [
    "# Pipeline regression\n",
    "\n",
    "Input = [('scale', StandardScaler()), ('polynomial', PolynomialFeatures(include_bias = False)), ('model', LinearRegression())]\n",
    "pipe = Pipeline(Input)\n",
    "pipe.fit(x_train,y_train)\n",
    "y_hat = pipe.predict(Z)\n",
    "\n",
    "print(pipe.score(x_test, y_test))\n",
    "plt.scatter(y_1,y_hat)"
   ]
  },
  {
   "cell_type": "code",
   "execution_count": 16,
   "metadata": {},
   "outputs": [
    {
     "name": "stdout",
     "output_type": "stream",
     "text": [
      "0.6949763368737218\n"
     ]
    },
    {
     "data": {
      "text/plain": [
       "<matplotlib.collections.PathCollection at 0x28fd683bdf0>"
      ]
     },
     "execution_count": 16,
     "metadata": {},
     "output_type": "execute_result"
    },
    {
     "data": {
      "image/png": "[encoded data removed]",
      "text/plain": [
       "<Figure size 640x480 with 1 Axes>"
      ]
     },
     "metadata": {},
     "output_type": "display_data"
    }
   ],
   "source": [
    "# Ridge regression\n",
    "\n",
    "from sklearn.linear_model import Ridge\n",
    "\n",
    "RidgeModel = Ridge(alpha = 0.1)\n",
    "RidgeModel.fit(x_train, y_train)\n",
    "\n",
    "y_hat = RidgeModel.predict(Z)\n",
    "\n",
    "print(RidgeModel.score(x_test, y_test))\n",
    "plt.scatter(y_1,y_hat)"
   ]
  },
  {
   "cell_type": "markdown",
   "metadata": {},
   "source": [
    "<h2 id=\"b_and_w\">4. Box and whiskers</h2>\n"
   ]
  },
  {
   "cell_type": "markdown",
   "metadata": {},
   "source": [
    "We will create different data_frames.\n",
    "\n",
    "**Maybe, it will be necessary redo this section**\n"
   ]
  },
  {
   "cell_type": "code",
   "execution_count": 47,
   "metadata": {},
   "outputs": [
    {
     "name": "stdout",
     "output_type": "stream",
     "text": [
      "Write the age (integer) that was/is/will be reached in this year. Write -1 to include all ages: 24\n",
      "Write equipment category ('Raw', 'Single-ply', 'Wraps' or 'All'): Raw\n",
      "Write the bodyweight within or without decimals. Write -1 to include all weights: 68\n"
     ]
    }
   ],
   "source": [
    "# Reset df_c\n",
    "df_c = df\n",
    "df_c['Equipment'] = df_c['Equipment'].str.upper()\n",
    "df_c['Sex'] = df_c['Sex'].str.upper()\n",
    "age_selection(df_c, age_c)            \n",
    "equip_selection(df_c)\n",
    "bw_selection(df_c, 'F')\n",
    "# Drop from dataset competitors declassified by doping positive.\n",
    "df_c = df_c.loc[df_c['Place'] != 'DD']\n",
    "\n",
    "df_Kg = df_c.loc[:,['Name', 'Sex', 'BodyweightKg', 'Best3SquatKg', 'Best3BenchKg', 'Best3DeadliftKg', 'TotalKg']]\n",
    "# df.columns\n",
    "# df.axes\n"
   ]
  },
  {
   "cell_type": "code",
   "execution_count": 48,
   "metadata": {},
   "outputs": [],
   "source": [
    "### FIXME: RUN TO IMPORT math\n",
    "# Truncate numbers to work with box and whiskers\n",
    "\n",
    "import math\n",
    "# math.trunc(df_Kg[['BodyweightKg']])\n",
    "# math.trunc(df_Kg['BodyweightKg']).at(0,0)\n",
    "# df_Kg.at(0,'BodyweightKg')\n",
    "# [0:lenght(df_Kg[['BodyweightKg']]):1]"
   ]
  },
  {
   "cell_type": "code",
   "execution_count": 49,
   "metadata": {},
   "outputs": [
    {
     "name": "stderr",
     "output_type": "stream",
     "text": [
      "C:\\Users\\amaia\\AppData\\Local\\Temp/ipykernel_4320/515328168.py:6: FutureWarning: Using the level keyword in DataFrame and Series aggregations is deprecated and will be removed in a future version. Use groupby instead. df.median(level=1) should use df.groupby(level=1).median().\n",
      "  df_Squat = df_Squat.max(level='Name')\n",
      "C:\\Users\\amaia\\AppData\\Local\\Temp/ipykernel_4320/515328168.py:11: FutureWarning: Using the level keyword in DataFrame and Series aggregations is deprecated and will be removed in a future version. Use groupby instead. df.median(level=1) should use df.groupby(level=1).median().\n",
      "  df_Bench = df_Bench.max(level='Name')\n",
      "C:\\Users\\amaia\\AppData\\Local\\Temp/ipykernel_4320/515328168.py:16: FutureWarning: Using the level keyword in DataFrame and Series aggregations is deprecated and will be removed in a future version. Use groupby instead. df.median(level=1) should use df.groupby(level=1).median().\n",
      "  df_Deadlift = df_Deadlift.max(level='Name')\n"
     ]
    }
   ],
   "source": [
    "# Different dataframes for each lifting. Unique lifters.\n",
    "    # The difference is the ausence of some NaN values.\n",
    "\n",
    "df_Squat = df_Kg[['Name', 'Sex', 'BodyweightKg', 'Best3SquatKg']].set_index(df_Kg['Name'])\n",
    "df_Squat = df_Squat[['Sex', 'Best3SquatKg']].dropna()\n",
    "df_Squat = df_Squat.max(level='Name')\n",
    "df_Squat = df_Squat.loc[df_Squat['Best3SquatKg'] > 0]\n",
    "\n",
    "df_Bench = df_Kg[['Name', 'Sex', 'BodyweightKg', 'Best3BenchKg']].set_index(df_Kg['Name'])\n",
    "df_Bench = df_Bench[['Sex', 'Best3BenchKg']].dropna()\n",
    "df_Bench = df_Bench.max(level='Name')\n",
    "df_Bench = df_Bench.loc[df_Bench['Best3BenchKg'] > 0]\n",
    "\n",
    "df_Deadlift = df_Kg[['Name', 'Sex', 'BodyweightKg', 'Best3DeadliftKg']].set_index(df_Kg['Name'])\n",
    "df_Deadlift = df_Deadlift[['Sex', 'Best3DeadliftKg']].dropna()\n",
    "df_Deadlift = df_Deadlift.max(level='Name')\n",
    "df_Deadlift = df_Deadlift.loc[df_Deadlift['Best3DeadliftKg'] > 0]"
   ]
  },
  {
   "cell_type": "code",
   "execution_count": 50,
   "metadata": {
    "scrolled": true
   },
   "outputs": [
    {
     "name": "stdout",
     "output_type": "stream",
     "text": [
      "232.5\n",
      "130.0\n",
      "Statistics=0.987, p=0.000\n",
      "Sample does not look Gaussian (reject H0)\n"
     ]
    },
    {
     "name": "stderr",
     "output_type": "stream",
     "text": [
      "C:\\ProgramData\\Anaconda3\\lib\\site-packages\\scipy\\stats\\morestats.py:1760: UserWarning: p-value may not be accurate for N > 5000.\n",
      "  warnings.warn(\"p-value may not be accurate for N > 5000.\")\n"
     ]
    },
    {
     "data": {
      "image/png": "[encoded data removed]",
      "text/plain": [
       "<Figure size 432x288 with 1 Axes>"
      ]
     },
     "metadata": {
      "needs_background": "light"
     },
     "output_type": "display_data"
    }
   ],
   "source": [
    "### Building ###\n",
    "### Percentile display ###\n",
    "\n",
    "perc = 0.75\n",
    "# ax1 = sns.boxplot(x = \"Best3SquatKg\", data=df_Squat)\n",
    "\n",
    "# In case of selecting all Sex categories \n",
    "ax1 = sns.boxplot(x = \"Sex\", y = \"Best3SquatKg\", data=df_Squat)\n",
    "# df_c_squat_M = df_Squat.loc[df_Squat['Sex'] == 'M']\n",
    "df_c_squat_F = df_Squat.loc[df_Squat['Sex'] == 'F']\n",
    "# Percentile to show\n",
    "print(float(df_c_squat_M.quantile(perc)))\n",
    "print(float(df_c_squat_F.quantile(perc)))\n",
    "ax1.axhline(float(df_c_squat_M.quantile(perc)), ls='--')\n",
    "ax1.axhline(float(df_c_squat_F.quantile(perc)), ls='--')\n",
    "\n",
    "\n",
    "\n",
    "# Normality test\n",
    "scipy.stats.normaltest(df_Squat['Best3SquatKg'])\n",
    "\n",
    "stat, p = shapiro(df_Squat['Best3SquatKg'])\n",
    "print('Statistics=%.3f, p=%.3f' % (stat, p))\n",
    "# interpret\n",
    "alpha = 0.05\n",
    "if p > alpha:\n",
    "\tprint('Sample looks Gaussian (fail to reject H0)')\n",
    "else:\n",
    "\tprint('Sample does not look Gaussian (reject H0)')"
   ]
  },
  {
   "cell_type": "code",
   "execution_count": 13,
   "metadata": {},
   "outputs": [
    {
     "name": "stdout",
     "output_type": "stream",
     "text": [
      "160.0\n",
      "72.5\n",
      "Statistics=0.927, p=0.000\n",
      "Sample does not look Gaussian (reject H0)\n"
     ]
    },
    {
     "name": "stderr",
     "output_type": "stream",
     "text": [
      "C:\\ProgramData\\Anaconda3\\lib\\site-packages\\scipy\\stats\\morestats.py:1760: UserWarning: p-value may not be accurate for N > 5000.\n",
      "  warnings.warn(\"p-value may not be accurate for N > 5000.\")\n"
     ]
    },
    {
     "data": {
      "image/png": "[encoded data removed]",
      "text/plain": [
       "<Figure size 432x288 with 1 Axes>"
      ]
     },
     "metadata": {
      "needs_background": "light"
     },
     "output_type": "display_data"
    }
   ],
   "source": [
    "# df_c_bench = df_c.loc[df_c['Best3BenchKg'] > 0]\n",
    "df_c_bench_M = df_Bench.loc[df_Bench['Sex'] == 'M']\n",
    "df_c_bench_F = df_Bench.loc[df_Bench['Sex'] == 'F']\n",
    "ax2 = sns.boxplot(x = \"Sex\", y = \"Best3BenchKg\", data=df_Bench)\n",
    "\n",
    "print(float(df_c_bench_M.quantile(perc)))\n",
    "print(float(df_c_bench_F.quantile(perc)))\n",
    "\n",
    "ax2.axhline(float(df_c_bench_M.quantile(perc)), ls='--')\n",
    "ax2.axhline(float(df_c_bench_F.quantile(perc)), ls='--')\n",
    "\n",
    "# ax2 = sns.boxplot(x=\"Best3BenchKg\", data=df_Bench, palette=\"Set2\")\n",
    "# ax2.axvline(80, ls='--')\n",
    "\n",
    "# Normality test\n",
    "scipy.stats.normaltest(df_c_bench_F['Best3BenchKg'])\n",
    "\n",
    "stat, p = shapiro(df_c_bench_F['Best3BenchKg'])\n",
    "print('Statistics=%.3f, p=%.3f' % (stat, p))\n",
    "# interpret\n",
    "alpha = 0.05\n",
    "if p > alpha:\n",
    "\tprint('Sample looks Gaussian (fail to reject H0)')\n",
    "else:\n",
    "\tprint('Sample does not look Gaussian (reject H0)')"
   ]
  },
  {
   "cell_type": "code",
   "execution_count": 14,
   "metadata": {},
   "outputs": [
    {
     "name": "stdout",
     "output_type": "stream",
     "text": [
      "250.0\n",
      "145.0\n",
      "Statistics=0.996, p=0.000\n",
      "Sample does not look Gaussian (reject H0)\n"
     ]
    },
    {
     "name": "stderr",
     "output_type": "stream",
     "text": [
      "C:\\ProgramData\\Anaconda3\\lib\\site-packages\\scipy\\stats\\morestats.py:1760: UserWarning: p-value may not be accurate for N > 5000.\n",
      "  warnings.warn(\"p-value may not be accurate for N > 5000.\")\n"
     ]
    },
    {
     "data": {
      "image/png": "[encoded data removed]",
      "text/plain": [
       "<Figure size 432x288 with 1 Axes>"
      ]
     },
     "metadata": {
      "needs_background": "light"
     },
     "output_type": "display_data"
    }
   ],
   "source": [
    "# ax3 = sns.boxplot(x=\"Best3DeadliftKg\", data=df_Bench, palette=\"Set2\")\n",
    "# ax3.axvline(160, ls='--')\n",
    "\n",
    "# df_c_deadlift = df_c.loc[df_c['Best3DeadliftKg'] > 0]\n",
    "df_c_deadlift_M = df_Deadlift.loc[df_Deadlift['Sex'] == 'M']\n",
    "df_c_deadlift_F = df_Deadlift.loc[df_Deadlift['Sex'] == 'F']\n",
    "ax3 = sns.boxplot(x = \"Sex\", y = \"Best3DeadliftKg\", data=df_Deadlift)\n",
    "\n",
    "print(float(df_c_deadlift_M.quantile(perc)))\n",
    "print(float(df_c_deadlift_F.quantile(perc)))\n",
    "# print(iqr(df_c_deadlift_M))\n",
    "\n",
    "ax3.axhline(float(df_c_deadlift_M.quantile(perc)), ls='--')\n",
    "ax3.axhline(float(df_c_deadlift_F.quantile(perc)), ls='--')\n",
    "\n",
    "# Normality test\n",
    "scipy.stats.normaltest(df_c_deadlift_F['Best3DeadliftKg'])\n",
    "\n",
    "stat, p = shapiro(df_c_deadlift_F['Best3DeadliftKg'])\n",
    "print('Statistics=%.3f, p=%.3f' % (stat, p))\n",
    "# interpret\n",
    "alpha = 0.05\n",
    "if p > alpha:\n",
    "\tprint('Sample looks Gaussian (fail to reject H0)')\n",
    "else:\n",
    "\tprint('Sample does not look Gaussian (reject H0)')"
   ]
  },
  {
   "cell_type": "code",
   "execution_count": 51,
   "metadata": {},
   "outputs": [],
   "source": [
    "squat_F_norm = np.random.normal(statistics.mean(df_c_squat_F['Best3SquatKg']), statistics.stdev(df_c_squat_F['Best3SquatKg']), 2000)\n",
    "\n"
   ]
  },
  {
   "cell_type": "code",
   "execution_count": 52,
   "metadata": {
    "scrolled": true
   },
   "outputs": [
    {
     "name": "stdout",
     "output_type": "stream",
     "text": [
      "Statistics=0.981, p=0.000\n",
      "Sample does not look Gaussian (reject H0)\n"
     ]
    },
    {
     "data": {
      "image/png": "[encoded data removed]",
      "text/plain": [
       "<Figure size 432x288 with 1 Axes>"
      ]
     },
     "metadata": {
      "needs_background": "light"
     },
     "output_type": "display_data"
    }
   ],
   "source": [
    "### Building ###\n",
    "\n",
    "import scipy\n",
    "from scipy.stats import shapiro\n",
    "\n",
    "# Density distribution of each lifting.\n",
    "\n",
    "# sns.distplot(df_c_deadlift_F['Best3DeadliftKg'], hist=False)\n",
    "    # 'Displot' is a deprecated function and will be removed in a future version.\n",
    "\n",
    "sns.kdeplot(data=df_c_squat_F.sample(n=2000), x=\"Best3SquatKg\", bw_adjust = 1.7, cut = 0, palette=\"crest\")\n",
    "sns.kdeplot(x=squat_F_norm, bw_adjust = 1.7, cut = 0, palette=\"crest\")\n",
    "# sns.kdeplot(data=df_c_bench_F, x=\"Best3BenchKg\", bw_adjust = 1.7, cut = 0, palette=\"crest\")\n",
    "# sns.kdeplot(data=df_c_deadlift_F, x=\"Best3DeadliftKg\", bw_adjust = 1.7, cut = 0, palette=\"crest\")\n",
    "\n",
    "# Normality test\n",
    "scipy.stats.normaltest(df_c_squat_F['Best3SquatKg'].sample(n=2000))\n",
    "\n",
    "stat, p = shapiro(df_c_squat_F['Best3SquatKg'].sample(n=2000))\n",
    "print('Statistics=%.3f, p=%.3f' % (stat, p))\n",
    "# interpret\n",
    "alpha = 0.05\n",
    "if p > alpha:\n",
    "\tprint('Sample looks Gaussian (fail to reject H0)')\n",
    "else:\n",
    "\tprint('Sample does not look Gaussian (reject H0)')\n"
   ]
  },
  {
   "cell_type": "markdown",
   "metadata": {},
   "source": [
    "<h2 id=\"S_c_SVM\">5. Sex classification using SVM </h2>\n"
   ]
  },
  {
   "cell_type": "markdown",
   "metadata": {},
   "source": [
    "In this case, taking into account the lifts, we will tag the lifts if them are tipically from a female or male lifter.\n",
    "Only liftings will be used to simplify the analysis.\n",
    "\n",
    "**Futher work: remove columns from X (for example, it could be interesting remove squat or deadlift because they are high correlated)**\n",
    "**Also, it could be interesting include the BodyweightKg column**\n"
   ]
  },
  {
   "cell_type": "code",
   "execution_count": 58,
   "metadata": {},
   "outputs": [],
   "source": [
    "import scipy.optimize as opt\n",
    "from sklearn import preprocessing\n",
    "from sklearn import svm\n",
    "from sklearn.metrics import f1_score\n",
    "from sklearn.metrics import jaccard_score\n",
    "from sklearn.model_selection import cross_val_score\n",
    "\n",
    "# df_c will be reused and reset.\n",
    "df_c = df\n",
    "df_c['Equipment'] = df_c['Equipment'].str.upper()\n",
    "df_c['Sex'] = df_c['Sex'].str.upper()\n",
    "# Drop from dataset competitors declassified by doping positive.\n",
    "df_c = df_c.loc[df_c['Place'] != 'DD']"
   ]
  },
  {
   "cell_type": "code",
   "execution_count": 59,
   "metadata": {},
   "outputs": [
    {
     "name": "stdout",
     "output_type": "stream",
     "text": [
      "Write the age (integer) that was/is/will be reached in this year. Write -1 to include all ages: 24\n",
      "Write equipment category ('Raw', 'Single-ply', 'Wraps' or 'All'): raw\n",
      "Write the bodyweight within or without decimals. Write -1 to include all weights: 68\n"
     ]
    }
   ],
   "source": [
    "### Age, Bodyweight and equipment category selection ###\n",
    "\n",
    "age_selection(df_c, age_c)            \n",
    "equip_selection(df_c)\n",
    "bw_selection(df_c, 'All')\n",
    "\n",
    "# Drop from dataset competitors declassified by doping positive.\n",
    "df_c = df_c.loc[df_c['Place'] != 'DD']\n",
    "\n",
    "# Just keep lifts and sex columns\n",
    "df_c = df_c.loc[:,['Best3SquatKg', 'Best3BenchKg', 'Best3DeadliftKg', 'TotalKg', 'Sex']]\n",
    "df_c = df_c.dropna()\n",
    "\n",
    "# Select only lifters with the Sex tagged as M or F.\n",
    "df_c = df_c[df_c.Sex != 'Mx']"
   ]
  },
  {
   "cell_type": "code",
   "execution_count": 60,
   "metadata": {},
   "outputs": [
    {
     "name": "stdout",
     "output_type": "stream",
     "text": [
      "Train set: (16000, 4) (16000,)\n",
      "Test set: (4000, 4) (4000,)\n"
     ]
    }
   ],
   "source": [
    "# Drop random values for a fast training.\n",
    "try:\n",
    "    df_c = df_c.sample(n=20000)\n",
    "except:\n",
    "    pass\n",
    "    \n",
    "# Define X and y for train the dataset\n",
    "X = np.asarray(df_c.loc[:,['Best3SquatKg', 'Best3BenchKg', 'Best3DeadliftKg', 'TotalKg']])\n",
    "\n",
    "# Male sex will be tagged as 2 and female as 4.\n",
    "y = df_c.replace({'M': 2, 'F': 4})\n",
    "y = np.asarray(y.loc[:,['Sex']]).flatten()\n",
    "\n",
    "X_train, X_test, y_train, y_test = train_test_split( X, y, test_size=0.2, random_state=4)\n",
    "print ('Train set:', X_train.shape,  y_train.shape)\n",
    "print ('Test set:', X_test.shape,  y_test.shape)\n",
    "\n",
    "clf = svm.SVC(kernel='rbf')\n",
    "clf.fit(X_train, y_train)\n",
    "\n",
    "# Predict new values\n",
    "yhat = clf.predict(X_test)"
   ]
  },
  {
   "cell_type": "code",
   "execution_count": 61,
   "metadata": {},
   "outputs": [
    {
     "data": {
      "text/plain": [
       "SVC()"
      ]
     },
     "execution_count": 61,
     "metadata": {},
     "output_type": "execute_result"
    }
   ],
   "source": [
    "# Modelling SVM\n",
    "clf = svm.SVC(kernel='rbf')\n",
    "clf.fit(X_train, y_train) "
   ]
  },
  {
   "cell_type": "code",
   "execution_count": 62,
   "metadata": {},
   "outputs": [
    {
     "name": "stdout",
     "output_type": "stream",
     "text": [
      "The F1 is: 0.8954621712200374\n",
      "Jaccard index is: 0.8674433249370277\n"
     ]
    }
   ],
   "source": [
    "# Print F1 and Jaccard Index\n",
    "\n",
    "print(f\"The F1 is: {f1_score(y_test, yhat, average='weighted')}\")\n",
    "print(f\"Jaccard index is: {jaccard_score(y_test, yhat,pos_label=2)}\")\n",
    "\n",
    "# Both are high values. It seems that this SVM has a good performance. However, it could be much better (for example, a value for F1 of 0.95)."
   ]
  },
  {
   "cell_type": "code",
   "execution_count": 67,
   "metadata": {},
   "outputs": [],
   "source": [
    "from sklearn.metrics import classification_report, confusion_matrix\n",
    "import itertools\n",
    "\n",
    "def plot_confusion_matrix(cm, classes,\n",
    "                          normalize=False,\n",
    "                          title='Confusion matrix',\n",
    "                          cmap=plt.cm.Blues):\n",
    "    \"\"\"\n",
    "    This function prints and plots the confusion matrix.\n",
    "    Normalization can be applied by setting `normalize=True`.\n",
    "    \"\"\"\n",
    "    if normalize:\n",
    "        cm = cm.astype('float') / cm.sum(axis=1)[:, np.newaxis]\n",
    "        print(\"Normalized confusion matrix\")\n",
    "    else:\n",
    "        print('Confusion matrix, without normalization')\n",
    "\n",
    "    print(cm)\n",
    "\n",
    "    plt.imshow(cm, interpolation='nearest', cmap=cmap)\n",
    "    plt.title(title)\n",
    "    plt.colorbar()\n",
    "    tick_marks = np.arange(len(classes))\n",
    "    plt.xticks(tick_marks, classes, rotation=45)\n",
    "    plt.yticks(tick_marks, classes)\n",
    "\n",
    "    fmt = '.2f' if normalize else 'd'\n",
    "    thresh = cm.max() / 2.\n",
    "    for i, j in itertools.product(range(cm.shape[0]), range(cm.shape[1])):\n",
    "        plt.text(j, i, format(cm[i, j], fmt),\n",
    "                 horizontalalignment=\"center\",\n",
    "                 color=\"white\" if cm[i, j] > thresh else \"black\")\n",
    "\n",
    "    plt.tight_layout()\n",
    "    plt.ylabel('True label')\n",
    "    plt.xlabel('Predicted label')"
   ]
  },
  {
   "cell_type": "code",
   "execution_count": 69,
   "metadata": {},
   "outputs": [
    {
     "name": "stdout",
     "output_type": "stream",
     "text": [
      "              precision    recall  f1-score   support\n",
      "\n",
      "           2       0.94      0.92      0.93      2987\n",
      "           4       0.78      0.81      0.80      1013\n",
      "\n",
      "    accuracy                           0.89      4000\n",
      "   macro avg       0.86      0.87      0.86      4000\n",
      "weighted avg       0.90      0.89      0.90      4000\n",
      "\n"
     ]
    }
   ],
   "source": [
    "# Compute confusion matrix\n",
    "cnf_matrix = confusion_matrix(y_test, yhat, labels=[2,4])\n",
    "np.set_printoptions(precision=2)\n",
    "\n",
    "print (classification_report(y_test, yhat))\n",
    "\n",
    "# Plot non-normalized confusion matrix\n",
    "# plt.figure()\n",
    "# plot_confusion_matrix(cnf_matrix, classes=['M(2)','F(4)'],normalize= False,  title='Confusion matrix')"
   ]
  },
  {
   "cell_type": "markdown",
   "metadata": {},
   "source": [
    "<h3> Crooss fold validation </h3>"
   ]
  },
  {
   "cell_type": "code",
   "execution_count": 29,
   "metadata": {},
   "outputs": [
    {
     "name": "stdout",
     "output_type": "stream",
     "text": [
      "[0.9005 0.905  0.9005 0.887  0.8965]\n"
     ]
    }
   ],
   "source": [
    "## Building\n",
    "# SVM with a the linear method\n",
    "clf = svm.SVC(kernel='rbf', random_state=10)\n",
    "# Obtain scores from 5 folds\n",
    "scores = cross_val_score(clf, X, y, cv=5)\n",
    "print(scores)"
   ]
  },
  {
   "cell_type": "markdown",
   "metadata": {},
   "source": [
    "## Author\n",
    "\n",
    "<a  href=\"https://www.linkedin.com/in/llunasmontrull/?locale=en_US\" target=\"_blank\">Lluna Sanz Montrull</a>\n",
    "\n"
   ]
  }
 ],
 "metadata": {
  "anaconda-cloud": {},
  "kernelspec": {
   "display_name": "Python 3 (ipykernel)",
   "language": "python",
   "name": "python3"
  },
  "language_info": {
   "codemirror_mode": {
    "name": "ipython",
    "version": 3
   },
   "file_extension": ".py",
   "mimetype": "text/x-python",
   "name": "python",
   "nbconvert_exporter": "python",
   "pygments_lexer": "ipython3",
   "version": "3.8.12"
  }
 },
 "nbformat": 4,
 "nbformat_minor": 2
}
